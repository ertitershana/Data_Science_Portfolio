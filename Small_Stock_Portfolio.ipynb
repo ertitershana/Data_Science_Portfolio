{
 "cells": [
  {
   "cell_type": "code",
   "execution_count": 1,
   "metadata": {},
   "outputs": [],
   "source": [
    "import numpy as np\n",
    "import pandas_datareader as pdr\n",
    "import datetime as dt\n",
    "import pandas as pd"
   ]
  },
  {
   "attachments": {},
   "cell_type": "markdown",
   "metadata": {},
   "source": [
    "Portfolios"
   ]
  },
  {
   "cell_type": "code",
   "execution_count": 2,
   "metadata": {},
   "outputs": [
    {
     "name": "stdout",
     "output_type": "stream",
     "text": [
      "[*********************100%***********************]  1 of 1 completed\n"
     ]
    }
   ],
   "source": [
    "import pandas_datareader.data as pdr\n",
    "import yfinance as yf\n",
    "yf.pdr_override()\n",
    "from datetime import datetime\n",
    "data = pdr.get_data_yahoo('^GSPC', datetime(1970, 1, 1))"
   ]
  },
  {
   "cell_type": "code",
   "execution_count": 3,
   "metadata": {},
   "outputs": [
    {
     "name": "stdout",
     "output_type": "stream",
     "text": [
      "[*********************100%***********************]  4 of 4 completed\n"
     ]
    }
   ],
   "source": [
    "tickers = ['AAPL', 'MSFT', 'AMZN', 'IBM']\n",
    "start = dt.datetime(2020, 1, 1)\n",
    "\n",
    "data = pdr.get_data_yahoo(tickers, start)"
   ]
  },
  {
   "cell_type": "code",
   "execution_count": 4,
   "metadata": {},
   "outputs": [],
   "source": [
    "investment = 100_000"
   ]
  },
  {
   "cell_type": "code",
   "execution_count": 5,
   "metadata": {},
   "outputs": [
    {
     "data": {
      "text/html": [
       "<div>\n",
       "<style scoped>\n",
       "    .dataframe tbody tr th:only-of-type {\n",
       "        vertical-align: middle;\n",
       "    }\n",
       "\n",
       "    .dataframe tbody tr th {\n",
       "        vertical-align: top;\n",
       "    }\n",
       "\n",
       "    .dataframe thead tr th {\n",
       "        text-align: left;\n",
       "    }\n",
       "\n",
       "    .dataframe thead tr:last-of-type th {\n",
       "        text-align: right;\n",
       "    }\n",
       "</style>\n",
       "<table border=\"1\" class=\"dataframe\">\n",
       "  <thead>\n",
       "    <tr>\n",
       "      <th></th>\n",
       "      <th colspan=\"4\" halign=\"left\">Adj Close</th>\n",
       "      <th colspan=\"4\" halign=\"left\">Close</th>\n",
       "      <th colspan=\"2\" halign=\"left\">High</th>\n",
       "      <th>...</th>\n",
       "      <th colspan=\"2\" halign=\"left\">Low</th>\n",
       "      <th colspan=\"4\" halign=\"left\">Open</th>\n",
       "      <th colspan=\"4\" halign=\"left\">Volume</th>\n",
       "    </tr>\n",
       "    <tr>\n",
       "      <th></th>\n",
       "      <th>AAPL</th>\n",
       "      <th>AMZN</th>\n",
       "      <th>IBM</th>\n",
       "      <th>MSFT</th>\n",
       "      <th>AAPL</th>\n",
       "      <th>AMZN</th>\n",
       "      <th>IBM</th>\n",
       "      <th>MSFT</th>\n",
       "      <th>AAPL</th>\n",
       "      <th>AMZN</th>\n",
       "      <th>...</th>\n",
       "      <th>IBM</th>\n",
       "      <th>MSFT</th>\n",
       "      <th>AAPL</th>\n",
       "      <th>AMZN</th>\n",
       "      <th>IBM</th>\n",
       "      <th>MSFT</th>\n",
       "      <th>AAPL</th>\n",
       "      <th>AMZN</th>\n",
       "      <th>IBM</th>\n",
       "      <th>MSFT</th>\n",
       "    </tr>\n",
       "    <tr>\n",
       "      <th>Date</th>\n",
       "      <th></th>\n",
       "      <th></th>\n",
       "      <th></th>\n",
       "      <th></th>\n",
       "      <th></th>\n",
       "      <th></th>\n",
       "      <th></th>\n",
       "      <th></th>\n",
       "      <th></th>\n",
       "      <th></th>\n",
       "      <th></th>\n",
       "      <th></th>\n",
       "      <th></th>\n",
       "      <th></th>\n",
       "      <th></th>\n",
       "      <th></th>\n",
       "      <th></th>\n",
       "      <th></th>\n",
       "      <th></th>\n",
       "      <th></th>\n",
       "      <th></th>\n",
       "    </tr>\n",
       "  </thead>\n",
       "  <tbody>\n",
       "    <tr>\n",
       "      <th>2020-01-02</th>\n",
       "      <td>73.347939</td>\n",
       "      <td>94.900497</td>\n",
       "      <td>108.749641</td>\n",
       "      <td>155.422043</td>\n",
       "      <td>75.087502</td>\n",
       "      <td>94.900497</td>\n",
       "      <td>129.464630</td>\n",
       "      <td>160.619995</td>\n",
       "      <td>75.150002</td>\n",
       "      <td>94.900497</td>\n",
       "      <td>...</td>\n",
       "      <td>128.843216</td>\n",
       "      <td>158.330002</td>\n",
       "      <td>74.059998</td>\n",
       "      <td>93.750000</td>\n",
       "      <td>129.063095</td>\n",
       "      <td>158.779999</td>\n",
       "      <td>135480400</td>\n",
       "      <td>80580000</td>\n",
       "      <td>3293436</td>\n",
       "      <td>22622100</td>\n",
       "    </tr>\n",
       "    <tr>\n",
       "      <th>2020-01-03</th>\n",
       "      <td>72.634842</td>\n",
       "      <td>93.748497</td>\n",
       "      <td>107.882347</td>\n",
       "      <td>153.486786</td>\n",
       "      <td>74.357498</td>\n",
       "      <td>93.748497</td>\n",
       "      <td>128.432129</td>\n",
       "      <td>158.619995</td>\n",
       "      <td>75.144997</td>\n",
       "      <td>94.309998</td>\n",
       "      <td>...</td>\n",
       "      <td>127.686424</td>\n",
       "      <td>158.059998</td>\n",
       "      <td>74.287498</td>\n",
       "      <td>93.224998</td>\n",
       "      <td>127.695984</td>\n",
       "      <td>158.320007</td>\n",
       "      <td>146322800</td>\n",
       "      <td>75288000</td>\n",
       "      <td>2482890</td>\n",
       "      <td>21116200</td>\n",
       "    </tr>\n",
       "    <tr>\n",
       "      <th>2020-01-06</th>\n",
       "      <td>73.213623</td>\n",
       "      <td>95.143997</td>\n",
       "      <td>107.689606</td>\n",
       "      <td>153.883469</td>\n",
       "      <td>74.949997</td>\n",
       "      <td>95.143997</td>\n",
       "      <td>128.202682</td>\n",
       "      <td>159.029999</td>\n",
       "      <td>74.989998</td>\n",
       "      <td>95.184502</td>\n",
       "      <td>...</td>\n",
       "      <td>127.342255</td>\n",
       "      <td>156.509995</td>\n",
       "      <td>73.447502</td>\n",
       "      <td>93.000000</td>\n",
       "      <td>127.552582</td>\n",
       "      <td>157.080002</td>\n",
       "      <td>118387200</td>\n",
       "      <td>81236000</td>\n",
       "      <td>2537073</td>\n",
       "      <td>20813700</td>\n",
       "    </tr>\n",
       "    <tr>\n",
       "      <th>2020-01-07</th>\n",
       "      <td>72.869293</td>\n",
       "      <td>95.343002</td>\n",
       "      <td>107.761864</td>\n",
       "      <td>152.480438</td>\n",
       "      <td>74.597504</td>\n",
       "      <td>95.343002</td>\n",
       "      <td>128.288712</td>\n",
       "      <td>157.580002</td>\n",
       "      <td>75.224998</td>\n",
       "      <td>95.694504</td>\n",
       "      <td>...</td>\n",
       "      <td>127.533463</td>\n",
       "      <td>157.320007</td>\n",
       "      <td>74.959999</td>\n",
       "      <td>95.224998</td>\n",
       "      <td>127.810707</td>\n",
       "      <td>159.320007</td>\n",
       "      <td>108872000</td>\n",
       "      <td>80898000</td>\n",
       "      <td>3232977</td>\n",
       "      <td>21634100</td>\n",
       "    </tr>\n",
       "    <tr>\n",
       "      <th>2020-01-08</th>\n",
       "      <td>74.041489</td>\n",
       "      <td>94.598503</td>\n",
       "      <td>108.661308</td>\n",
       "      <td>154.909195</td>\n",
       "      <td>75.797501</td>\n",
       "      <td>94.598503</td>\n",
       "      <td>129.359467</td>\n",
       "      <td>160.089996</td>\n",
       "      <td>76.110001</td>\n",
       "      <td>95.550003</td>\n",
       "      <td>...</td>\n",
       "      <td>128.030594</td>\n",
       "      <td>157.949997</td>\n",
       "      <td>74.290001</td>\n",
       "      <td>94.902000</td>\n",
       "      <td>128.594650</td>\n",
       "      <td>158.929993</td>\n",
       "      <td>132079200</td>\n",
       "      <td>70160000</td>\n",
       "      <td>4545916</td>\n",
       "      <td>27746500</td>\n",
       "    </tr>\n",
       "  </tbody>\n",
       "</table>\n",
       "<p>5 rows × 24 columns</p>\n",
       "</div>"
      ],
      "text/plain": [
       "            Adj Close                                         Close  \\\n",
       "                 AAPL       AMZN         IBM        MSFT       AAPL   \n",
       "Date                                                                  \n",
       "2020-01-02  73.347939  94.900497  108.749641  155.422043  75.087502   \n",
       "2020-01-03  72.634842  93.748497  107.882347  153.486786  74.357498   \n",
       "2020-01-06  73.213623  95.143997  107.689606  153.883469  74.949997   \n",
       "2020-01-07  72.869293  95.343002  107.761864  152.480438  74.597504   \n",
       "2020-01-08  74.041489  94.598503  108.661308  154.909195  75.797501   \n",
       "\n",
       "                                                    High             ...  \\\n",
       "                 AMZN         IBM        MSFT       AAPL       AMZN  ...   \n",
       "Date                                                                 ...   \n",
       "2020-01-02  94.900497  129.464630  160.619995  75.150002  94.900497  ...   \n",
       "2020-01-03  93.748497  128.432129  158.619995  75.144997  94.309998  ...   \n",
       "2020-01-06  95.143997  128.202682  159.029999  74.989998  95.184502  ...   \n",
       "2020-01-07  95.343002  128.288712  157.580002  75.224998  95.694504  ...   \n",
       "2020-01-08  94.598503  129.359467  160.089996  76.110001  95.550003  ...   \n",
       "\n",
       "                   Low                   Open                         \\\n",
       "                   IBM        MSFT       AAPL       AMZN         IBM   \n",
       "Date                                                                   \n",
       "2020-01-02  128.843216  158.330002  74.059998  93.750000  129.063095   \n",
       "2020-01-03  127.686424  158.059998  74.287498  93.224998  127.695984   \n",
       "2020-01-06  127.342255  156.509995  73.447502  93.000000  127.552582   \n",
       "2020-01-07  127.533463  157.320007  74.959999  95.224998  127.810707   \n",
       "2020-01-08  128.030594  157.949997  74.290001  94.902000  128.594650   \n",
       "\n",
       "                           Volume                               \n",
       "                  MSFT       AAPL      AMZN      IBM      MSFT  \n",
       "Date                                                            \n",
       "2020-01-02  158.779999  135480400  80580000  3293436  22622100  \n",
       "2020-01-03  158.320007  146322800  75288000  2482890  21116200  \n",
       "2020-01-06  157.080002  118387200  81236000  2537073  20813700  \n",
       "2020-01-07  159.320007  108872000  80898000  3232977  21634100  \n",
       "2020-01-08  158.929993  132079200  70160000  4545916  27746500  \n",
       "\n",
       "[5 rows x 24 columns]"
      ]
     },
     "execution_count": 5,
     "metadata": {},
     "output_type": "execute_result"
    }
   ],
   "source": [
    "data.head()"
   ]
  },
  {
   "cell_type": "code",
   "execution_count": 6,
   "metadata": {},
   "outputs": [],
   "source": [
    "data=data['Adj Close']"
   ]
  },
  {
   "cell_type": "code",
   "execution_count": 7,
   "metadata": {},
   "outputs": [
    {
     "data": {
      "text/html": [
       "<div>\n",
       "<style scoped>\n",
       "    .dataframe tbody tr th:only-of-type {\n",
       "        vertical-align: middle;\n",
       "    }\n",
       "\n",
       "    .dataframe tbody tr th {\n",
       "        vertical-align: top;\n",
       "    }\n",
       "\n",
       "    .dataframe thead th {\n",
       "        text-align: right;\n",
       "    }\n",
       "</style>\n",
       "<table border=\"1\" class=\"dataframe\">\n",
       "  <thead>\n",
       "    <tr style=\"text-align: right;\">\n",
       "      <th></th>\n",
       "      <th>AAPL</th>\n",
       "      <th>AMZN</th>\n",
       "      <th>IBM</th>\n",
       "      <th>MSFT</th>\n",
       "    </tr>\n",
       "    <tr>\n",
       "      <th>Date</th>\n",
       "      <th></th>\n",
       "      <th></th>\n",
       "      <th></th>\n",
       "      <th></th>\n",
       "    </tr>\n",
       "  </thead>\n",
       "  <tbody>\n",
       "    <tr>\n",
       "      <th>2020-01-02</th>\n",
       "      <td>73.347939</td>\n",
       "      <td>94.900497</td>\n",
       "      <td>108.749641</td>\n",
       "      <td>155.422043</td>\n",
       "    </tr>\n",
       "    <tr>\n",
       "      <th>2020-01-03</th>\n",
       "      <td>72.634842</td>\n",
       "      <td>93.748497</td>\n",
       "      <td>107.882347</td>\n",
       "      <td>153.486786</td>\n",
       "    </tr>\n",
       "    <tr>\n",
       "      <th>2020-01-06</th>\n",
       "      <td>73.213623</td>\n",
       "      <td>95.143997</td>\n",
       "      <td>107.689606</td>\n",
       "      <td>153.883469</td>\n",
       "    </tr>\n",
       "    <tr>\n",
       "      <th>2020-01-07</th>\n",
       "      <td>72.869293</td>\n",
       "      <td>95.343002</td>\n",
       "      <td>107.761864</td>\n",
       "      <td>152.480438</td>\n",
       "    </tr>\n",
       "    <tr>\n",
       "      <th>2020-01-08</th>\n",
       "      <td>74.041489</td>\n",
       "      <td>94.598503</td>\n",
       "      <td>108.661308</td>\n",
       "      <td>154.909195</td>\n",
       "    </tr>\n",
       "  </tbody>\n",
       "</table>\n",
       "</div>"
      ],
      "text/plain": [
       "                 AAPL       AMZN         IBM        MSFT\n",
       "Date                                                    \n",
       "2020-01-02  73.347939  94.900497  108.749641  155.422043\n",
       "2020-01-03  72.634842  93.748497  107.882347  153.486786\n",
       "2020-01-06  73.213623  95.143997  107.689606  153.883469\n",
       "2020-01-07  72.869293  95.343002  107.761864  152.480438\n",
       "2020-01-08  74.041489  94.598503  108.661308  154.909195"
      ]
     },
     "execution_count": 7,
     "metadata": {},
     "output_type": "execute_result"
    }
   ],
   "source": [
    "data.head()"
   ]
  },
  {
   "cell_type": "code",
   "execution_count": 8,
   "metadata": {},
   "outputs": [],
   "source": [
    "portfolios = [.25, .40, .20, .15]"
   ]
  },
  {
   "cell_type": "code",
   "execution_count": 9,
   "metadata": {},
   "outputs": [
    {
     "data": {
      "text/plain": [
       "1.0"
      ]
     },
     "execution_count": 9,
     "metadata": {},
     "output_type": "execute_result"
    }
   ],
   "source": [
    "np.sum(portfolios)"
   ]
  },
  {
   "cell_type": "code",
   "execution_count": 10,
   "metadata": {},
   "outputs": [
    {
     "data": {
      "text/html": [
       "<div>\n",
       "<style scoped>\n",
       "    .dataframe tbody tr th:only-of-type {\n",
       "        vertical-align: middle;\n",
       "    }\n",
       "\n",
       "    .dataframe tbody tr th {\n",
       "        vertical-align: top;\n",
       "    }\n",
       "\n",
       "    .dataframe thead th {\n",
       "        text-align: right;\n",
       "    }\n",
       "</style>\n",
       "<table border=\"1\" class=\"dataframe\">\n",
       "  <thead>\n",
       "    <tr style=\"text-align: right;\">\n",
       "      <th></th>\n",
       "      <th>AAPL</th>\n",
       "      <th>AMZN</th>\n",
       "      <th>IBM</th>\n",
       "      <th>MSFT</th>\n",
       "    </tr>\n",
       "    <tr>\n",
       "      <th>Date</th>\n",
       "      <th></th>\n",
       "      <th></th>\n",
       "      <th></th>\n",
       "      <th></th>\n",
       "    </tr>\n",
       "  </thead>\n",
       "  <tbody>\n",
       "    <tr>\n",
       "      <th>2020-01-02</th>\n",
       "      <td>25000.000000</td>\n",
       "      <td>40000.000000</td>\n",
       "      <td>20000.000000</td>\n",
       "      <td>15000.000000</td>\n",
       "    </tr>\n",
       "    <tr>\n",
       "      <th>2020-01-03</th>\n",
       "      <td>24756.947287</td>\n",
       "      <td>39514.438614</td>\n",
       "      <td>19840.497072</td>\n",
       "      <td>14813.225628</td>\n",
       "    </tr>\n",
       "    <tr>\n",
       "      <th>2020-01-06</th>\n",
       "      <td>24954.219746</td>\n",
       "      <td>40102.633711</td>\n",
       "      <td>19805.050262</td>\n",
       "      <td>14851.510038</td>\n",
       "    </tr>\n",
       "    <tr>\n",
       "      <th>2020-01-07</th>\n",
       "      <td>24836.857949</td>\n",
       "      <td>40186.513198</td>\n",
       "      <td>19818.339133</td>\n",
       "      <td>14716.101600</td>\n",
       "    </tr>\n",
       "    <tr>\n",
       "      <th>2020-01-08</th>\n",
       "      <td>25236.390457</td>\n",
       "      <td>39872.711174</td>\n",
       "      <td>19983.754773</td>\n",
       "      <td>14950.504328</td>\n",
       "    </tr>\n",
       "    <tr>\n",
       "      <th>...</th>\n",
       "      <td>...</td>\n",
       "      <td>...</td>\n",
       "      <td>...</td>\n",
       "      <td>...</td>\n",
       "    </tr>\n",
       "    <tr>\n",
       "      <th>2023-05-31</th>\n",
       "      <td>60414.104177</td>\n",
       "      <td>50823.759659</td>\n",
       "      <td>23648.812936</td>\n",
       "      <td>31693.382287</td>\n",
       "    </tr>\n",
       "    <tr>\n",
       "      <th>2023-06-01</th>\n",
       "      <td>61382.091961</td>\n",
       "      <td>51746.829557</td>\n",
       "      <td>23875.022599</td>\n",
       "      <td>32097.762371</td>\n",
       "    </tr>\n",
       "    <tr>\n",
       "      <th>2023-06-02</th>\n",
       "      <td>61675.215608</td>\n",
       "      <td>52370.642244</td>\n",
       "      <td>24353.183411</td>\n",
       "      <td>32369.925245</td>\n",
       "    </tr>\n",
       "    <tr>\n",
       "      <th>2023-06-05</th>\n",
       "      <td>61208.264817</td>\n",
       "      <td>52813.212338</td>\n",
       "      <td>24393.643539</td>\n",
       "      <td>32422.042230</td>\n",
       "    </tr>\n",
       "    <tr>\n",
       "      <th>2023-06-06</th>\n",
       "      <td>61082.155234</td>\n",
       "      <td>53365.368583</td>\n",
       "      <td>24402.839533</td>\n",
       "      <td>32203.925508</td>\n",
       "    </tr>\n",
       "  </tbody>\n",
       "</table>\n",
       "<p>863 rows × 4 columns</p>\n",
       "</div>"
      ],
      "text/plain": [
       "                    AAPL          AMZN           IBM          MSFT\n",
       "Date                                                              \n",
       "2020-01-02  25000.000000  40000.000000  20000.000000  15000.000000\n",
       "2020-01-03  24756.947287  39514.438614  19840.497072  14813.225628\n",
       "2020-01-06  24954.219746  40102.633711  19805.050262  14851.510038\n",
       "2020-01-07  24836.857949  40186.513198  19818.339133  14716.101600\n",
       "2020-01-08  25236.390457  39872.711174  19983.754773  14950.504328\n",
       "...                  ...           ...           ...           ...\n",
       "2023-05-31  60414.104177  50823.759659  23648.812936  31693.382287\n",
       "2023-06-01  61382.091961  51746.829557  23875.022599  32097.762371\n",
       "2023-06-02  61675.215608  52370.642244  24353.183411  32369.925245\n",
       "2023-06-05  61208.264817  52813.212338  24393.643539  32422.042230\n",
       "2023-06-06  61082.155234  53365.368583  24402.839533  32203.925508\n",
       "\n",
       "[863 rows x 4 columns]"
      ]
     },
     "execution_count": 10,
     "metadata": {},
     "output_type": "execute_result"
    }
   ],
   "source": [
    "(data/data.iloc[0])*portfolios*investment"
   ]
  },
  {
   "cell_type": "markdown",
   "metadata": {},
   "source": [
    "Monte Carlo Simulation"
   ]
  },
  {
   "cell_type": "code",
   "execution_count": 11,
   "metadata": {},
   "outputs": [
    {
     "data": {
      "text/plain": [
       "array([0.33512762, 0.37424419, 0.21777684, 0.07285135])"
      ]
     },
     "execution_count": 11,
     "metadata": {},
     "output_type": "execute_result"
    }
   ],
   "source": [
    "weight = np.random.random(4)\n",
    "weight /= weight.sum()\n",
    "weight"
   ]
  },
  {
   "cell_type": "code",
   "execution_count": 12,
   "metadata": {},
   "outputs": [
    {
     "data": {
      "text/plain": [
       "0.9999999999999999"
      ]
     },
     "execution_count": 12,
     "metadata": {},
     "output_type": "execute_result"
    }
   ],
   "source": [
    "weight.sum()"
   ]
  },
  {
   "cell_type": "code",
   "execution_count": 13,
   "metadata": {},
   "outputs": [
    {
     "data": {
      "text/plain": [
       "Date\n",
       "2020-01-02    100000.000000\n",
       "2020-01-03     98925.108601\n",
       "2020-01-06     99713.413757\n",
       "2020-01-07     99557.811881\n",
       "2020-01-08    100043.360732\n",
       "                  ...      \n",
       "2023-05-31    166580.059059\n",
       "2023-06-01    169101.706488\n",
       "2023-06-02    170768.966508\n",
       "2023-06-05    170837.162924\n",
       "2023-06-06    171054.288858\n",
       "Length: 863, dtype: float64"
      ]
     },
     "execution_count": 13,
     "metadata": {},
     "output_type": "execute_result"
    }
   ],
   "source": [
    "np.sum((data/data.iloc[0])*portfolios*investment, axis=1)"
   ]
  },
  {
   "cell_type": "code",
   "execution_count": 14,
   "metadata": {},
   "outputs": [
    {
     "data": {
      "text/plain": [
       "Date\n",
       "2020-01-02    100000.000000\n",
       "2020-01-03     98955.496985\n",
       "2020-01-06     99750.260617\n",
       "2020-01-07     99620.119883\n",
       "2020-01-08    100156.063115\n",
       "                  ...      \n",
       "2023-05-31    169680.505415\n",
       "2023-06-01    172284.450753\n",
       "2023-06-02    173913.876393\n",
       "2023-06-05    173771.365518\n",
       "2023-06-06    174022.996856\n",
       "Length: 863, dtype: float64"
      ]
     },
     "execution_count": 14,
     "metadata": {},
     "output_type": "execute_result"
    }
   ],
   "source": [
    "np.sum((data/data.iloc[0])*weight*investment, axis=1)"
   ]
  },
  {
   "cell_type": "markdown",
   "metadata": {},
   "source": [
    "In 3 years time, an investment of 100,000 Euro in a portfolio made of 25% Apple, 40% Amazon, 20% IBM and 15% Microsoft\n",
    "gave us an actual return of 171,054.29 Euro while the Monte Carlo Simulation gives us a porfolio value of 158,923.10"
   ]
  },
  {
   "cell_type": "markdown",
   "metadata": {},
   "source": []
  }
 ],
 "metadata": {
  "kernelspec": {
   "display_name": "Python 3.9.13 ('base')",
   "language": "python",
   "name": "python3"
  },
  "language_info": {
   "codemirror_mode": {
    "name": "ipython",
    "version": 3
   },
   "file_extension": ".py",
   "mimetype": "text/x-python",
   "name": "python",
   "nbconvert_exporter": "python",
   "pygments_lexer": "ipython3",
   "version": "3.9.13"
  },
  "orig_nbformat": 4,
  "vscode": {
   "interpreter": {
    "hash": "ab478bb9be0cc747ef2d0a11023d8a823d785a4ff72c66b7258b333e312690f8"
   }
  }
 },
 "nbformat": 4,
 "nbformat_minor": 2
}
